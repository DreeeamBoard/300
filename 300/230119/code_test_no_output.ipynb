{
 "cells": [
  {
   "cell_type": "code",
   "execution_count": null,
   "id": "401b71e5-a076-4d2e-b3db-a9009a248c0c",
   "metadata": {
    "tags": []
   },
   "outputs": [],
   "source": [
    "# before = \"olleh\"\n",
    "# after = \"hello\"\n",
    "\n",
    "before = \"allpe\"\n",
    "after = \"apple\""
   ]
  },
  {
   "cell_type": "code",
   "execution_count": null,
   "id": "e593375a-ddb7-4429-a686-3d035fe06cf2",
   "metadata": {},
   "outputs": [],
   "source": [
    "def solution(before, after):\n",
    "    count = 0\n",
    "    \n",
    "    for i in before :\n",
    "        if before.count(i) == after.count(i) :\n",
    "            count += 1\n",
    "            print(count)\n",
    "            if count == len(before) :\n",
    "                answer = 1\n",
    "        else :\n",
    "            answer = 0\n",
    "    return answer"
   ]
  },
  {
   "cell_type": "code",
   "execution_count": null,
   "id": "bae49427-1bd9-4c4b-8613-d4b9072632ea",
   "metadata": {},
   "outputs": [],
   "source": [
    "for i in before :\n",
    "    print(before.count(i))"
   ]
  },
  {
   "cell_type": "code",
   "execution_count": null,
   "id": "93a2c2ab-3622-4829-ba34-e00a9a7b4287",
   "metadata": {},
   "outputs": [],
   "source": [
    "solution(before,after)"
   ]
  },
  {
   "cell_type": "code",
   "execution_count": null,
   "id": "a2c62934-398e-4538-98a1-18f393950723",
   "metadata": {},
   "outputs": [],
   "source": [
    "sorted('hello')"
   ]
  },
  {
   "cell_type": "code",
   "execution_count": null,
   "id": "88c690e3-87fc-4677-8954-0ab4457a9c5f",
   "metadata": {},
   "outputs": [],
   "source": [
    "number = 123\n",
    "a = []\n",
    "for i in str(number):\n",
    "    a.append(i)\n",
    "    \n",
    "a"
   ]
  },
  {
   "cell_type": "code",
   "execution_count": null,
   "id": "275207ef-cd6f-4039-8d00-a5aa79fab62e",
   "metadata": {},
   "outputs": [],
   "source": [
    "for i in range(10,20) :\n",
    "    print(i)"
   ]
  },
  {
   "cell_type": "code",
   "execution_count": null,
   "id": "d5285f66-ec3b-4e67-84f9-1478aca00952",
   "metadata": {},
   "outputs": [],
   "source": [
    "def solution(i, j, k):\n",
    "    list = []\n",
    "    for number in range(i,j+1) :\n",
    "        for i in str(number) :\n",
    "            list.append(i)\n",
    "    answer = list.count(str(k))\n",
    "    return answer"
   ]
  },
  {
   "cell_type": "code",
   "execution_count": null,
   "id": "80b2e794-b52a-4571-8c64-b7efc60ce9da",
   "metadata": {},
   "outputs": [],
   "source": [
    "i = 1\n",
    "j = 13\n",
    "k = 1\n",
    "\n",
    "solution(i,j,k)"
   ]
  },
  {
   "cell_type": "code",
   "execution_count": null,
   "id": "9d3f33e7-1e5d-4d59-bfe8-878e3353c952",
   "metadata": {},
   "outputs": [],
   "source": [
    "s = \"abcabcadc\"\n",
    "answer = ''\n",
    "s = sorted(s)"
   ]
  },
  {
   "cell_type": "code",
   "execution_count": null,
   "id": "5f12b6e9-2228-4e1a-8f58-39fc899b11a0",
   "metadata": {
    "tags": []
   },
   "outputs": [],
   "source": [
    "for i in s :\n",
    "    if s.count(i) == 1 :\n",
    "        answer += i\n",
    "        \n",
    "print(answer)"
   ]
  },
  {
   "cell_type": "code",
   "execution_count": null,
   "id": "ef3882a6-3cad-4a66-9e26-647c7781e95f",
   "metadata": {},
   "outputs": [],
   "source": [
    "test = \"aAb1B2cC34oOp\"\n",
    "\n",
    "test = sorted(test)\n",
    "test"
   ]
  },
  {
   "cell_type": "code",
   "execution_count": null,
   "id": "4745e210-1fdb-44a3-a642-df353804bd46",
   "metadata": {},
   "outputs": [],
   "source": [
    "import re\n",
    "\n",
    "my_string = \"aAb1B2cC34oOp\"\n",
    "numbers = re.sub(r'[^0-9]', '', my_string)\n",
    "numbers"
   ]
  },
  {
   "cell_type": "code",
   "execution_count": null,
   "id": "b83662d3-0b65-4919-8059-e01f1dad9fb9",
   "metadata": {},
   "outputs": [],
   "source": [
    "import re\n",
    "\n",
    "my_string = \"aAb1B2cC34oOp\"\n",
    "numbers = re.sub(r'[^0-9]', '!', my_string)\n",
    "numbers"
   ]
  },
  {
   "cell_type": "code",
   "execution_count": null,
   "id": "d4024cef-52b4-41e2-bf27-075e671a43e3",
   "metadata": {},
   "outputs": [],
   "source": [
    "test = re.findall(r'\\d+', numbers)\n",
    "print(test)\n",
    "sum = 0\n",
    "for i in test :\n",
    "    sum += int(i)\n",
    "    \n",
    "sum"
   ]
  },
  {
   "cell_type": "code",
   "execution_count": null,
   "id": "310dd5d8-1926-4632-bba7-e55b7504458f",
   "metadata": {},
   "outputs": [],
   "source": [
    "import re\n",
    "\n",
    "my_string = \"aAb1B2cC34oOp\"\n",
    "numbers = re.sub(r'(\\D)[0-9](\\D)', '!', my_string)\n",
    "numbers"
   ]
  },
  {
   "cell_type": "code",
   "execution_count": null,
   "id": "92c4dd83-5e96-4592-9d1a-d49e53650f4f",
   "metadata": {},
   "outputs": [],
   "source": [
    "my_string = \"aAb1B2cC34oOp\"\n",
    "test = re.findall(r'[0-9]+', my_string)\n",
    "test"
   ]
  },
  {
   "cell_type": "code",
   "execution_count": null,
   "id": "1735d3a0-e730-453a-bac2-8007eca01f74",
   "metadata": {},
   "outputs": [],
   "source": [
    "spell = [\"z\", \"d\", \"x\"]\n",
    "dic = [\"def\", \"dww\", \"dzx\", \"loveaw\"]\n",
    "\n",
    "spell = sorted(spell)\n",
    "dic = [sorted(i) for i in dic]\n",
    "# print(spell)\n",
    "\n",
    "comb = ''\n",
    "for i in spell :\n",
    "    comb += i\n",
    "    \n",
    "if comb in dic :\n",
    "    print(1)\n",
    "else :\n",
    "    print(2)"
   ]
  },
  {
   "cell_type": "code",
   "execution_count": null,
   "id": "941a33f0-a336-4ffb-969a-69ae26dd4f4b",
   "metadata": {},
   "outputs": [],
   "source": [
    "dic\n",
    "# comb"
   ]
  },
  {
   "cell_type": "code",
   "execution_count": null,
   "id": "b06fda4a-2b9a-42be-805c-384ae17ab715",
   "metadata": {},
   "outputs": [],
   "source": [
    "dic = [\"def\", \"dww\", \"dzx\", \"loveaw\"]\n",
    "for i in dic :\n",
    "    new = sorted(i)\n",
    "    dic.remove(i)\n",
    "    dic.append(new)\n",
    "dic"
   ]
  },
  {
   "cell_type": "code",
   "execution_count": null,
   "id": "e412ef60-d58a-4e8f-ab79-1667cb01df3a",
   "metadata": {},
   "outputs": [],
   "source": [
    "dic = [\"def\", \"dww\", \"dzx\", \"loveaw\"]\n",
    "dic = [sorted(i) for i in dic]\n",
    "dic"
   ]
  },
  {
   "cell_type": "code",
   "execution_count": null,
   "id": "b8efa0f2-b5e3-4dfc-9e8a-4dcce44f98ff",
   "metadata": {},
   "outputs": [],
   "source": [
    "dic = [\"def\", \"dww\", \"dzx\", \"loveaw\"]\n",
    "for i in dic :\n",
    "    here = ''.join(sorted(i))\n",
    "    print(here)"
   ]
  },
  {
   "cell_type": "code",
   "execution_count": null,
   "id": "b435d10e-2e26-4972-9057-02b30d825c34",
   "metadata": {},
   "outputs": [],
   "source": [
    "dic = [\"def\", \"dww\", \"dzx\", \"loveaw\"]\n",
    "\n",
    "for i in range(len(dic)) :\n",
    "    dic[i] = ''.join(sorted(dic[i]))"
   ]
  },
  {
   "cell_type": "code",
   "execution_count": null,
   "id": "76ba1c66-e128-40cc-8d16-1a8bb86ebbfa",
   "metadata": {},
   "outputs": [],
   "source": [
    "spell = [\"p\", \"o\", \"s\"]\n",
    "print(sorted(spell))\n",
    "\n",
    "dic = [\"sod\", \"eocd\", \"qixm\", \"adio\", \"soo\"]\n",
    "for d in dic:\n",
    "    print(sorted(d))"
   ]
  },
  {
   "cell_type": "code",
   "execution_count": null,
   "id": "189cb6e2-5275-495f-b7fa-357de0322e2b",
   "metadata": {},
   "outputs": [],
   "source": [
    "id_pw = [\"meosseugi\", \"1234\"]\n",
    "db = [[\"rardss\", \"123\"], [\"yyoom\", \"1234\"], [\"meosseugi\", \"1234\"]]\n",
    "\n",
    "for i in db :\n",
    "    print(i[0])\n",
    "    \n",
    "for i in range(len(db)) :\n",
    "    print(db[i])"
   ]
  },
  {
   "cell_type": "code",
   "execution_count": null,
   "id": "a072d6f0-0a9d-47a8-b1f3-d5baed1e45e5",
   "metadata": {},
   "outputs": [],
   "source": [
    "def solution(id_pw, db):\n",
    "    for i in range(len(db)) :\n",
    "        if id_pw[0] == db[i][0] :\n",
    "            if id_pw[1] == db[i][1] :\n",
    "                answer = 'login'\n",
    "                break\n",
    "            else :\n",
    "                answer = 'wrong pw'\n",
    "                break\n",
    "            \n",
    "        else :\n",
    "            answer = 'fail'\n",
    "    return answer"
   ]
  },
  {
   "cell_type": "code",
   "execution_count": null,
   "id": "53bc72c9-bf15-4064-a3c3-a1df418c5e9c",
   "metadata": {},
   "outputs": [],
   "source": [
    "for i in per :\n",
    "    print(i)"
   ]
  },
  {
   "cell_type": "code",
   "execution_count": null,
   "id": "6a72b05f-7e0e-403f-9681-08097426bd22",
   "metadata": {},
   "outputs": [],
   "source": [
    "from itertools import combinations\n",
    "from itertools import permutations\n",
    "\n",
    "items = ['aya', 'ye', 'woo', 'ma']\n",
    "new_list = []\n",
    "\n",
    "no_1 = items\n",
    "no_2 = list(permutations(items,2))\n",
    "no_3 = list(permutations(items,3))\n",
    "no_4 = list(permutations(items,4))\n",
    "\n",
    "\n",
    "for i in no_2 :\n",
    "    new = i[0] + i[1]\n",
    "    new_list.append(new)\n",
    "    \n",
    "for i in no_3 :\n",
    "    new = i[0] + i[1] + i[2]\n",
    "    new_list.append(new)\n",
    "    \n",
    "for i in no_4 :\n",
    "    new = i[0] + i[1] + i[2] + i[3]\n",
    "    new_list.append(new)\n",
    "    \n",
    "new_list += items\n",
    "\n",
    "count = 0\n",
    "# babbling = [\"aya\", \"yee\", \"u\", \"maa\", \"wyeoo\"]\n",
    "babbling = [\"ayaye\", \"uuuma\", \"ye\", \"yemawoo\", \"ayaa\"]\n",
    "for i in babbling :\n",
    "    if i in new_list :\n",
    "        count += 1\n",
    "count"
   ]
  },
  {
   "cell_type": "code",
   "execution_count": null,
   "id": "fff1b293-8dd1-4f9d-a7d3-3da8bd7d3fa5",
   "metadata": {},
   "outputs": [],
   "source": [
    "items"
   ]
  },
  {
   "cell_type": "code",
   "execution_count": null,
   "id": "5379ed86-f7ab-411a-8bbf-2343ed651563",
   "metadata": {},
   "outputs": [],
   "source": [
    "babbling = [\"ayaye\", \"uuuma\", \"ye\", \"yemawoo\", \"ayaa\"]\n",
    "c = 0\n",
    "for b in babbling : \n",
    "    for w in ['aya', 'ye', 'woo', 'ma'] :\n",
    "        if w in b :\n",
    "            b = b.replace(w, ' ')\n",
    "    if len(b.strip()) == 0 :\n",
    "        c += 1\n",
    "\n",
    "c"
   ]
  },
  {
   "cell_type": "code",
   "execution_count": null,
   "id": "11f7c6b8-98e6-4b15-80f8-af534045c52b",
   "metadata": {},
   "outputs": [],
   "source": [
    "number = \"01033334447\"\n",
    "len(number)\n",
    "\n",
    "number[-4:]\n",
    "sharp = '#' * (len(number) - 4)\n",
    "new_number = sharp + number[-4:]\n",
    "new_number"
   ]
  },
  {
   "cell_type": "code",
   "execution_count": null,
   "id": "0502f20d-0094-48c7-887b-31c1dc9f8a0e",
   "metadata": {},
   "outputs": [],
   "source": [
    "comb"
   ]
  },
  {
   "cell_type": "code",
   "execution_count": null,
   "id": "27578fe6-61a0-4ca8-8e32-988851167d60",
   "metadata": {},
   "outputs": [],
   "source": [
    "from itertools import combinations\n",
    "# nums = [1,2,3,4]\n",
    "nums = [1,2,7,6,4]\n",
    "\n",
    "comb = list(combinations(nums,3))\n",
    "count = 0\n",
    "\n",
    "for i in comb :\n",
    "    test = i[0] + i[1] + i[2]\n",
    "    print(test)\n",
    "    \n",
    "    for i in range(2,test) :\n",
    "        if test % i == 0 : # 소수가 아니다\n",
    "            break\n",
    "        if i == test-1 :\n",
    "            count += 1\n",
    "    \n",
    "    \n",
    "count"
   ]
  },
  {
   "cell_type": "code",
   "execution_count": null,
   "id": "dfc1f51b-b785-49d8-9322-2231c737268b",
   "metadata": {},
   "outputs": [],
   "source": [
    "for i in comb :\n",
    "    test = i[0] + i[1] + i[2]\n",
    "    print(test)\n",
    "    \n",
    "    for i in range(2,test) :\n",
    "        if test % i == 0 : # 소수가 아니다\n",
    "            break\n",
    "    "
   ]
  },
  {
   "cell_type": "code",
   "execution_count": null,
   "id": "c7e19871-37f8-443a-857e-1f3487316387",
   "metadata": {},
   "outputs": [],
   "source": [
    "lottos = [44, 1, 0, 0, 31, 25]\n",
    "win_nums = [31, 10, 45, 1, 6, 19]\n",
    "\n",
    "\n",
    "count = 0\n",
    "high_rank = 0\n",
    "low_rank = 0\n",
    "\n",
    "for i in lottos :\n",
    "    if i in win_nums :\n",
    "        count += 1\n",
    "        \n",
    "print(count, lottos.count(0))\n",
    "\n",
    "if count + lottos.count(0) < 2 :\n",
    "    high_rank = 6\n",
    "elif count + lottos.count(0) == 2 :\n",
    "    high_rank = 5\n",
    "elif count + lottos.count(0) == 3 :\n",
    "    high_rank = 4\n",
    "elif count + lottos.count(0) == 4 :\n",
    "    high_rank = 3\n",
    "elif count + lottos.count(0) == 5 :\n",
    "    high_rank = 2\n",
    "elif count + lottos.count(0) == 6 :\n",
    "    high_rank = 1\n",
    "    \n",
    "print(high_rank)"
   ]
  },
  {
   "cell_type": "code",
   "execution_count": null,
   "id": "e068802c-2728-4e57-8c77-d00baf8f7e6c",
   "metadata": {},
   "outputs": [],
   "source": [
    "if count + lottos.count(0) < 2 :\n",
    "    high_rank == 6\n",
    "elif count + lottos.count(0) == 2 :\n",
    "    high_rank == 5\n",
    "elif count + lottos.count(0) == 3 :\n",
    "    high_rank == 4\n",
    "elif count + lottos.count(0) == 4 :\n",
    "    high_rank == 3\n",
    "elif count + lottos.count(0) == 5 :\n",
    "    high_rank == 2\n",
    "elif count + lottos.count(0) == 6 :\n",
    "    high_rank == 1\n",
    "    \n",
    "if count < 2 :\n",
    "    low_rank == 6\n",
    "elif count == 2:\n",
    "    low_rank == 5\n",
    "elif count == 3 :\n",
    "    low_rank == 4\n",
    "elif count == 4 :\n",
    "    low_rank == 3\n",
    "elif count == 5 :\n",
    "    low_rank == 2\n",
    "elif count == 6 :\n",
    "    low_rank == 1\n",
    "    \n",
    "[low_rank, high_rank]"
   ]
  },
  {
   "cell_type": "code",
   "execution_count": null,
   "id": "8a008c3c-78e9-45ba-be3c-8e99b76e16f7",
   "metadata": {},
   "outputs": [],
   "source": [
    "count"
   ]
  },
  {
   "cell_type": "code",
   "execution_count": null,
   "id": "8c16a9c1-37a5-41df-a769-666212e2b546",
   "metadata": {},
   "outputs": [],
   "source": [
    "# numbers = [1, 3, 4, 5, 8, 2, 1, 4, 5, 9, 5]\n",
    "# result = \"LRLLLRLLRRL\"\n",
    "# hand = \"right\"\n",
    "\n",
    "numbers = [7, 0, 8, 2, 8, 3, 1, 5, 7, 6, 2]\n",
    "result = \"LRLLRRLLLRR\"\n",
    "hand = \"left\"\n",
    "\n",
    "left_only = [1,4,7,'*']\n",
    "right_only = [3,6,9,#]\n",
    "              \n",
    "for index, number in enumerate(numbers) :\n",
    "    if number in left_only :\n",
    "        numbers[index] = L\n",
    "    else if number in right_only :\n",
    "        numbers[index] = R\n",
    "              \n",
    "numbers"
   ]
  },
  {
   "cell_type": "code",
   "execution_count": null,
   "id": "2b8b7cce-60c8-4f4e-85a2-09a93bd2dbcd",
   "metadata": {},
   "outputs": [],
   "source": [
    "numbers = [7, 0, 8, 2, 8, 3, 1, 5, 7, 6, 2]\n",
    "\n",
    "for index, number in enumerate(numbers) :\n",
    "    if number in [1,4,7] :\n",
    "        numbers[index] = \n",
    "        "
   ]
  },
  {
   "cell_type": "code",
   "execution_count": null,
   "id": "ae2b2681-af6b-4eeb-a80e-7ef8b25eec86",
   "metadata": {
    "tags": []
   },
   "outputs": [],
   "source": [
    "numbers = [7, 0, 8, 2, 8, 3, 1, 5, 7, 6, 2]\n",
    "left = '*'\n",
    "right = '#'\n",
    "result = ''\n",
    "\n",
    "for i in range(len(numbers)) :\n",
    "    if numbers[i] in [1,4,7] :\n",
    "        left = numbers[i]\n",
    "        result += 'L'\n",
    "    if numbers[i] in [3,6,9] :\n",
    "        right = numbers[i]\n",
    "        result += 'R'\n",
    "    elif "
   ]
  }
 ],
 "metadata": {
  "kernelspec": {
   "display_name": "py38",
   "language": "python",
   "name": "py38"
  },
  "language_info": {
   "codemirror_mode": {
    "name": "ipython",
    "version": 3
   },
   "file_extension": ".py",
   "mimetype": "text/x-python",
   "name": "python",
   "nbconvert_exporter": "python",
   "pygments_lexer": "ipython3",
   "version": "3.8.0"
  }
 },
 "nbformat": 4,
 "nbformat_minor": 5
}
