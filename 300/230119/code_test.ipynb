{
 "cells": [
  {
   "cell_type": "code",
   "execution_count": 36,
   "id": "401b71e5-a076-4d2e-b3db-a9009a248c0c",
   "metadata": {
    "collapsed": true,
    "jupyter": {
     "outputs_hidden": true
    },
    "tags": []
   },
   "outputs": [],
   "source": [
    "# before = \"olleh\"\n",
    "# after = \"hello\"\n",
    "\n",
    "before = \"allpe\"\n",
    "after = \"apple\""
   ]
  },
  {
   "cell_type": "code",
   "execution_count": null,
   "id": "e593375a-ddb7-4429-a686-3d035fe06cf2",
   "metadata": {
    "collapsed": true,
    "jupyter": {
     "outputs_hidden": true
    }
   },
   "outputs": [],
   "source": [
    "def solution(before, after):\n",
    "    count = 0\n",
    "    \n",
    "    for i in before :\n",
    "        if before.count(i) == after.count(i) :\n",
    "            count += 1\n",
    "            print(count)\n",
    "            if count == len(before) :\n",
    "                answer = 1\n",
    "        else :\n",
    "            answer = 0\n",
    "    return answer"
   ]
  },
  {
   "cell_type": "code",
   "execution_count": 38,
   "id": "bae49427-1bd9-4c4b-8613-d4b9072632ea",
   "metadata": {
    "collapsed": true,
    "jupyter": {
     "outputs_hidden": true
    }
   },
   "outputs": [
    {
     "name": "stdout",
     "output_type": "stream",
     "text": [
      "1\n",
      "2\n",
      "2\n",
      "1\n",
      "1\n"
     ]
    }
   ],
   "source": [
    "for i in before :\n",
    "    print(before.count(i))"
   ]
  },
  {
   "cell_type": "code",
   "execution_count": 39,
   "id": "93a2c2ab-3622-4829-ba34-e00a9a7b4287",
   "metadata": {
    "collapsed": true,
    "jupyter": {
     "outputs_hidden": true
    }
   },
   "outputs": [
    {
     "name": "stdout",
     "output_type": "stream",
     "text": [
      "1\n",
      "2\n"
     ]
    },
    {
     "data": {
      "text/plain": [
       "0"
      ]
     },
     "execution_count": 39,
     "metadata": {},
     "output_type": "execute_result"
    }
   ],
   "source": [
    "solution(before,after)"
   ]
  },
  {
   "cell_type": "code",
   "execution_count": 40,
   "id": "a2c62934-398e-4538-98a1-18f393950723",
   "metadata": {
    "collapsed": true,
    "jupyter": {
     "outputs_hidden": true
    }
   },
   "outputs": [
    {
     "data": {
      "text/plain": [
       "['e', 'h', 'l', 'l', 'o']"
      ]
     },
     "execution_count": 40,
     "metadata": {},
     "output_type": "execute_result"
    }
   ],
   "source": [
    "sorted('hello')"
   ]
  },
  {
   "cell_type": "code",
   "execution_count": 42,
   "id": "88c690e3-87fc-4677-8954-0ab4457a9c5f",
   "metadata": {
    "collapsed": true,
    "jupyter": {
     "outputs_hidden": true
    }
   },
   "outputs": [
    {
     "data": {
      "text/plain": [
       "['1', '2', '3']"
      ]
     },
     "execution_count": 42,
     "metadata": {},
     "output_type": "execute_result"
    }
   ],
   "source": [
    "number = 123\n",
    "a = []\n",
    "for i in str(number):\n",
    "    a.append(i)\n",
    "    \n",
    "a"
   ]
  },
  {
   "cell_type": "code",
   "execution_count": 43,
   "id": "275207ef-cd6f-4039-8d00-a5aa79fab62e",
   "metadata": {
    "collapsed": true,
    "jupyter": {
     "outputs_hidden": true
    }
   },
   "outputs": [
    {
     "name": "stdout",
     "output_type": "stream",
     "text": [
      "10\n",
      "11\n",
      "12\n",
      "13\n",
      "14\n",
      "15\n",
      "16\n",
      "17\n",
      "18\n",
      "19\n"
     ]
    }
   ],
   "source": [
    "for i in range(10,20) :\n",
    "    print(i)"
   ]
  },
  {
   "cell_type": "code",
   "execution_count": 49,
   "id": "d5285f66-ec3b-4e67-84f9-1478aca00952",
   "metadata": {
    "collapsed": true,
    "jupyter": {
     "outputs_hidden": true
    }
   },
   "outputs": [],
   "source": [
    "def solution(i, j, k):\n",
    "    list = []\n",
    "    for number in range(i,j+1) :\n",
    "        for i in str(number) :\n",
    "            list.append(i)\n",
    "    answer = list.count(str(k))\n",
    "    return answer"
   ]
  },
  {
   "cell_type": "code",
   "execution_count": 50,
   "id": "80b2e794-b52a-4571-8c64-b7efc60ce9da",
   "metadata": {
    "collapsed": true,
    "jupyter": {
     "outputs_hidden": true
    }
   },
   "outputs": [
    {
     "data": {
      "text/plain": [
       "6"
      ]
     },
     "execution_count": 50,
     "metadata": {},
     "output_type": "execute_result"
    }
   ],
   "source": [
    "i = 1\n",
    "j = 13\n",
    "k = 1\n",
    "\n",
    "solution(i,j,k)"
   ]
  },
  {
   "cell_type": "code",
   "execution_count": 60,
   "id": "9d3f33e7-1e5d-4d59-bfe8-878e3353c952",
   "metadata": {
    "collapsed": true,
    "jupyter": {
     "outputs_hidden": true
    }
   },
   "outputs": [
    {
     "ename": "TypeError",
     "evalue": "'list' object is not callable",
     "output_type": "error",
     "traceback": [
      "\u001b[0;31m---------------------------------------------------------------------------\u001b[0m",
      "\u001b[0;31mTypeError\u001b[0m                                 Traceback (most recent call last)",
      "Input \u001b[0;32mIn [60]\u001b[0m, in \u001b[0;36m<cell line: 4>\u001b[0;34m()\u001b[0m\n\u001b[1;32m      2\u001b[0m answer \u001b[38;5;241m=\u001b[39m \u001b[38;5;124m'\u001b[39m\u001b[38;5;124m'\u001b[39m\n\u001b[1;32m      3\u001b[0m s \u001b[38;5;241m=\u001b[39m \u001b[38;5;28msorted\u001b[39m(s)\n\u001b[0;32m----> 4\u001b[0m \u001b[43ms\u001b[49m\u001b[43m(\u001b[49m\u001b[43ma\u001b[49m\u001b[43m)\u001b[49m\n",
      "\u001b[0;31mTypeError\u001b[0m: 'list' object is not callable"
     ]
    }
   ],
   "source": [
    "s = \"abcabcadc\"\n",
    "answer = ''\n",
    "s = sorted(s)"
   ]
  },
  {
   "cell_type": "code",
   "execution_count": 61,
   "id": "5f12b6e9-2228-4e1a-8f58-39fc899b11a0",
   "metadata": {
    "collapsed": true,
    "jupyter": {
     "outputs_hidden": true
    },
    "tags": []
   },
   "outputs": [
    {
     "name": "stdout",
     "output_type": "stream",
     "text": [
      "d\n"
     ]
    }
   ],
   "source": [
    "for i in s :\n",
    "    if s.count(i) == 1 :\n",
    "        answer += i\n",
    "        \n",
    "print(answer)"
   ]
  },
  {
   "cell_type": "code",
   "execution_count": 62,
   "id": "ef3882a6-3cad-4a66-9e26-647c7781e95f",
   "metadata": {
    "collapsed": true,
    "jupyter": {
     "outputs_hidden": true
    }
   },
   "outputs": [
    {
     "data": {
      "text/plain": [
       "['1', '2', '3', '4', 'A', 'B', 'C', 'O', 'a', 'b', 'c', 'o', 'p']"
      ]
     },
     "execution_count": 62,
     "metadata": {},
     "output_type": "execute_result"
    }
   ],
   "source": [
    "test = \"aAb1B2cC34oOp\"\n",
    "\n",
    "test = sorted(test)\n",
    "test"
   ]
  },
  {
   "cell_type": "code",
   "execution_count": 63,
   "id": "4745e210-1fdb-44a3-a642-df353804bd46",
   "metadata": {
    "collapsed": true,
    "jupyter": {
     "outputs_hidden": true
    }
   },
   "outputs": [
    {
     "data": {
      "text/plain": [
       "'1234'"
      ]
     },
     "execution_count": 63,
     "metadata": {},
     "output_type": "execute_result"
    }
   ],
   "source": [
    "import re\n",
    "\n",
    "my_string = \"aAb1B2cC34oOp\"\n",
    "numbers = re.sub(r'[^0-9]', '', my_string)\n",
    "numbers"
   ]
  },
  {
   "cell_type": "code",
   "execution_count": 79,
   "id": "b83662d3-0b65-4919-8059-e01f1dad9fb9",
   "metadata": {
    "collapsed": true,
    "jupyter": {
     "outputs_hidden": true
    }
   },
   "outputs": [
    {
     "data": {
      "text/plain": [
       "'!!!1!2!!34!!!'"
      ]
     },
     "execution_count": 79,
     "metadata": {},
     "output_type": "execute_result"
    }
   ],
   "source": [
    "import re\n",
    "\n",
    "my_string = \"aAb1B2cC34oOp\"\n",
    "numbers = re.sub(r'[^0-9]', '!', my_string)\n",
    "numbers"
   ]
  },
  {
   "cell_type": "code",
   "execution_count": 89,
   "id": "d4024cef-52b4-41e2-bf27-075e671a43e3",
   "metadata": {
    "collapsed": true,
    "jupyter": {
     "outputs_hidden": true
    }
   },
   "outputs": [
    {
     "name": "stdout",
     "output_type": "stream",
     "text": [
      "['1', '2', '34']\n"
     ]
    },
    {
     "data": {
      "text/plain": [
       "37"
      ]
     },
     "execution_count": 89,
     "metadata": {},
     "output_type": "execute_result"
    }
   ],
   "source": [
    "test = re.findall(r'\\d+', numbers)\n",
    "print(test)\n",
    "sum = 0\n",
    "for i in test :\n",
    "    sum += int(i)\n",
    "    \n",
    "sum"
   ]
  },
  {
   "cell_type": "code",
   "execution_count": 73,
   "id": "310dd5d8-1926-4632-bba7-e55b7504458f",
   "metadata": {
    "collapsed": true,
    "jupyter": {
     "outputs_hidden": true
    }
   },
   "outputs": [
    {
     "data": {
      "text/plain": [
       "'aA!2cC34oOp'"
      ]
     },
     "execution_count": 73,
     "metadata": {},
     "output_type": "execute_result"
    }
   ],
   "source": [
    "import re\n",
    "\n",
    "my_string = \"aAb1B2cC34oOp\"\n",
    "numbers = re.sub(r'(\\D)[0-9](\\D)', '!', my_string)\n",
    "numbers"
   ]
  },
  {
   "cell_type": "code",
   "execution_count": 90,
   "id": "92c4dd83-5e96-4592-9d1a-d49e53650f4f",
   "metadata": {
    "collapsed": true,
    "jupyter": {
     "outputs_hidden": true
    }
   },
   "outputs": [
    {
     "data": {
      "text/plain": [
       "['1', '2', '34']"
      ]
     },
     "execution_count": 90,
     "metadata": {},
     "output_type": "execute_result"
    }
   ],
   "source": [
    "my_string = \"aAb1B2cC34oOp\"\n",
    "test = re.findall(r'[0-9]+', my_string)\n",
    "test"
   ]
  },
  {
   "cell_type": "code",
   "execution_count": 103,
   "id": "1735d3a0-e730-453a-bac2-8007eca01f74",
   "metadata": {
    "collapsed": true,
    "jupyter": {
     "outputs_hidden": true
    }
   },
   "outputs": [
    {
     "name": "stdout",
     "output_type": "stream",
     "text": [
      "2\n"
     ]
    }
   ],
   "source": [
    "spell = [\"z\", \"d\", \"x\"]\n",
    "dic = [\"def\", \"dww\", \"dzx\", \"loveaw\"]\n",
    "\n",
    "spell = sorted(spell)\n",
    "dic = [sorted(i) for i in dic]\n",
    "# print(spell)\n",
    "\n",
    "comb = ''\n",
    "for i in spell :\n",
    "    comb += i\n",
    "    \n",
    "if comb in dic :\n",
    "    print(1)\n",
    "else :\n",
    "    print(2)"
   ]
  },
  {
   "cell_type": "code",
   "execution_count": 104,
   "id": "941a33f0-a336-4ffb-969a-69ae26dd4f4b",
   "metadata": {
    "collapsed": true,
    "jupyter": {
     "outputs_hidden": true
    }
   },
   "outputs": [
    {
     "data": {
      "text/plain": [
       "[['d', 'e', 'f'],\n",
       " ['d', 'w', 'w'],\n",
       " ['d', 'x', 'z'],\n",
       " ['a', 'e', 'l', 'o', 'v', 'w']]"
      ]
     },
     "execution_count": 104,
     "metadata": {},
     "output_type": "execute_result"
    }
   ],
   "source": [
    "dic\n",
    "# comb"
   ]
  },
  {
   "cell_type": "code",
   "execution_count": 109,
   "id": "b06fda4a-2b9a-42be-805c-384ae17ab715",
   "metadata": {
    "collapsed": true,
    "jupyter": {
     "outputs_hidden": true
    }
   },
   "outputs": [
    {
     "data": {
      "text/plain": [
       "['dww', 'loveaw', ['d', 'x', 'z'], ['d', 'e', 'f']]"
      ]
     },
     "execution_count": 109,
     "metadata": {},
     "output_type": "execute_result"
    }
   ],
   "source": [
    "dic = [\"def\", \"dww\", \"dzx\", \"loveaw\"]\n",
    "for i in dic :\n",
    "    new = sorted(i)\n",
    "    dic.remove(i)\n",
    "    dic.append(new)\n",
    "dic"
   ]
  },
  {
   "cell_type": "code",
   "execution_count": 110,
   "id": "e412ef60-d58a-4e8f-ab79-1667cb01df3a",
   "metadata": {
    "collapsed": true,
    "jupyter": {
     "outputs_hidden": true
    }
   },
   "outputs": [
    {
     "data": {
      "text/plain": [
       "[['d', 'e', 'f'],\n",
       " ['d', 'w', 'w'],\n",
       " ['d', 'x', 'z'],\n",
       " ['a', 'e', 'l', 'o', 'v', 'w']]"
      ]
     },
     "execution_count": 110,
     "metadata": {},
     "output_type": "execute_result"
    }
   ],
   "source": [
    "dic = [\"def\", \"dww\", \"dzx\", \"loveaw\"]\n",
    "dic = [sorted(i) for i in dic]\n",
    "dic"
   ]
  },
  {
   "cell_type": "code",
   "execution_count": 118,
   "id": "b8efa0f2-b5e3-4dfc-9e8a-4dcce44f98ff",
   "metadata": {
    "collapsed": true,
    "jupyter": {
     "outputs_hidden": true
    }
   },
   "outputs": [
    {
     "name": "stdout",
     "output_type": "stream",
     "text": [
      "def\n",
      "dww\n",
      "dxz\n",
      "aelovw\n"
     ]
    }
   ],
   "source": [
    "dic = [\"def\", \"dww\", \"dzx\", \"loveaw\"]\n",
    "for i in dic :\n",
    "    here = ''.join(sorted(i))\n",
    "    print(here)"
   ]
  },
  {
   "cell_type": "code",
   "execution_count": 122,
   "id": "b435d10e-2e26-4972-9057-02b30d825c34",
   "metadata": {
    "collapsed": true,
    "jupyter": {
     "outputs_hidden": true
    }
   },
   "outputs": [],
   "source": [
    "dic = [\"def\", \"dww\", \"dzx\", \"loveaw\"]\n",
    "\n",
    "for i in range(len(dic)) :\n",
    "    dic[i] = ''.join(sorted(dic[i]))"
   ]
  },
  {
   "cell_type": "code",
   "execution_count": 125,
   "id": "76ba1c66-e128-40cc-8d16-1a8bb86ebbfa",
   "metadata": {
    "collapsed": true,
    "jupyter": {
     "outputs_hidden": true
    }
   },
   "outputs": [
    {
     "name": "stdout",
     "output_type": "stream",
     "text": [
      "['o', 'p', 's']\n",
      "['d', 'o', 's']\n",
      "['c', 'd', 'e', 'o']\n",
      "['i', 'm', 'q', 'x']\n",
      "['a', 'd', 'i', 'o']\n",
      "['o', 'o', 's']\n"
     ]
    }
   ],
   "source": [
    "spell = [\"p\", \"o\", \"s\"]\n",
    "print(sorted(spell))\n",
    "\n",
    "dic = [\"sod\", \"eocd\", \"qixm\", \"adio\", \"soo\"]\n",
    "for d in dic:\n",
    "    print(sorted(d))"
   ]
  },
  {
   "cell_type": "code",
   "execution_count": 130,
   "id": "189cb6e2-5275-495f-b7fa-357de0322e2b",
   "metadata": {
    "collapsed": true,
    "jupyter": {
     "outputs_hidden": true
    }
   },
   "outputs": [
    {
     "name": "stdout",
     "output_type": "stream",
     "text": [
      "rardss\n",
      "yyoom\n",
      "meosseugi\n",
      "['rardss', '123']\n",
      "['yyoom', '1234']\n",
      "['meosseugi', '1234']\n"
     ]
    }
   ],
   "source": [
    "id_pw = [\"meosseugi\", \"1234\"]\n",
    "db = [[\"rardss\", \"123\"], [\"yyoom\", \"1234\"], [\"meosseugi\", \"1234\"]]\n",
    "\n",
    "for i in db :\n",
    "    print(i[0])\n",
    "    \n",
    "for i in range(len(db)) :\n",
    "    print(db[i])"
   ]
  },
  {
   "cell_type": "code",
   "execution_count": 132,
   "id": "a072d6f0-0a9d-47a8-b1f3-d5baed1e45e5",
   "metadata": {
    "collapsed": true,
    "jupyter": {
     "outputs_hidden": true
    }
   },
   "outputs": [
    {
     "data": {
      "text/plain": [
       "'login'"
      ]
     },
     "execution_count": 132,
     "metadata": {},
     "output_type": "execute_result"
    }
   ],
   "source": [
    "def solution(id_pw, db):\n",
    "    for i in range(len(db)) :\n",
    "        if id_pw[0] == db[i][0] :\n",
    "            if id_pw[1] == db[i][1] :\n",
    "                answer = 'login'\n",
    "                break\n",
    "            else :\n",
    "                answer = 'wrong pw'\n",
    "                break\n",
    "            \n",
    "        else :\n",
    "            answer = 'fail'\n",
    "    return answer"
   ]
  },
  {
   "cell_type": "code",
   "execution_count": 148,
   "id": "53bc72c9-bf15-4064-a3c3-a1df418c5e9c",
   "metadata": {
    "collapsed": true,
    "jupyter": {
     "outputs_hidden": true
    }
   },
   "outputs": [
    {
     "name": "stdout",
     "output_type": "stream",
     "text": [
      "('aya', 'ye')\n",
      "('aya', 'woo')\n",
      "('aya', 'ma')\n",
      "('ye', 'aya')\n",
      "('ye', 'woo')\n",
      "('ye', 'ma')\n",
      "('woo', 'aya')\n",
      "('woo', 'ye')\n",
      "('woo', 'ma')\n",
      "('ma', 'aya')\n",
      "('ma', 'ye')\n",
      "('ma', 'woo')\n"
     ]
    }
   ],
   "source": [
    "for i in per :\n",
    "    print(i)"
   ]
  },
  {
   "cell_type": "code",
   "execution_count": 158,
   "id": "6a72b05f-7e0e-403f-9681-08097426bd22",
   "metadata": {
    "collapsed": true,
    "jupyter": {
     "outputs_hidden": true
    }
   },
   "outputs": [
    {
     "data": {
      "text/plain": [
       "3"
      ]
     },
     "execution_count": 158,
     "metadata": {},
     "output_type": "execute_result"
    }
   ],
   "source": [
    "from itertools import combinations\n",
    "from itertools import permutations\n",
    "\n",
    "items = ['aya', 'ye', 'woo', 'ma']\n",
    "new_list = []\n",
    "\n",
    "no_1 = items\n",
    "no_2 = list(permutations(items,2))\n",
    "no_3 = list(permutations(items,3))\n",
    "no_4 = list(permutations(items,4))\n",
    "\n",
    "\n",
    "for i in no_2 :\n",
    "    new = i[0] + i[1]\n",
    "    new_list.append(new)\n",
    "    \n",
    "for i in no_3 :\n",
    "    new = i[0] + i[1] + i[2]\n",
    "    new_list.append(new)\n",
    "    \n",
    "for i in no_4 :\n",
    "    new = i[0] + i[1] + i[2] + i[3]\n",
    "    new_list.append(new)\n",
    "    \n",
    "new_list += items\n",
    "\n",
    "count = 0\n",
    "# babbling = [\"aya\", \"yee\", \"u\", \"maa\", \"wyeoo\"]\n",
    "babbling = [\"ayaye\", \"uuuma\", \"ye\", \"yemawoo\", \"ayaa\"]\n",
    "for i in babbling :\n",
    "    if i in new_list :\n",
    "        count += 1\n",
    "count"
   ]
  },
  {
   "cell_type": "code",
   "execution_count": 157,
   "id": "fff1b293-8dd1-4f9d-a7d3-3da8bd7d3fa5",
   "metadata": {
    "collapsed": true,
    "jupyter": {
     "outputs_hidden": true
    }
   },
   "outputs": [
    {
     "data": {
      "text/plain": [
       "['aya',\n",
       " 'ye',\n",
       " 'woo',\n",
       " 'ma',\n",
       " 'ayaye',\n",
       " 'ayawoo',\n",
       " 'ayama',\n",
       " 'yeaya',\n",
       " 'yewoo',\n",
       " 'yema',\n",
       " 'wooaya',\n",
       " 'wooye',\n",
       " 'wooma',\n",
       " 'maaya',\n",
       " 'maye',\n",
       " 'mawoo']"
      ]
     },
     "execution_count": 157,
     "metadata": {},
     "output_type": "execute_result"
    }
   ],
   "source": [
    "items"
   ]
  },
  {
   "cell_type": "code",
   "execution_count": 161,
   "id": "5379ed86-f7ab-411a-8bbf-2343ed651563",
   "metadata": {
    "collapsed": true,
    "jupyter": {
     "outputs_hidden": true
    }
   },
   "outputs": [
    {
     "data": {
      "text/plain": [
       "3"
      ]
     },
     "execution_count": 161,
     "metadata": {},
     "output_type": "execute_result"
    }
   ],
   "source": [
    "babbling = [\"ayaye\", \"uuuma\", \"ye\", \"yemawoo\", \"ayaa\"]\n",
    "c = 0\n",
    "for b in babbling : \n",
    "    for w in ['aya', 'ye', 'woo', 'ma'] :\n",
    "        if w in b :\n",
    "            b = b.replace(w, ' ')\n",
    "    if len(b.strip()) == 0 :\n",
    "        c += 1\n",
    "\n",
    "c"
   ]
  },
  {
   "cell_type": "code",
   "execution_count": 176,
   "id": "11f7c6b8-98e6-4b15-80f8-af534045c52b",
   "metadata": {
    "collapsed": true,
    "jupyter": {
     "outputs_hidden": true
    }
   },
   "outputs": [
    {
     "data": {
      "text/plain": [
       "'#######4447'"
      ]
     },
     "execution_count": 176,
     "metadata": {},
     "output_type": "execute_result"
    }
   ],
   "source": [
    "number = \"01033334447\"\n",
    "len(number)\n",
    "\n",
    "number[-4:]\n",
    "sharp = '#' * (len(number) - 4)\n",
    "new_number = sharp + number[-4:]\n",
    "new_number"
   ]
  },
  {
   "cell_type": "code",
   "execution_count": null,
   "id": "0502f20d-0094-48c7-887b-31c1dc9f8a0e",
   "metadata": {
    "collapsed": true,
    "jupyter": {
     "outputs_hidden": true
    }
   },
   "outputs": [
    {
     "ename": "TypeError",
     "evalue": "'int' object is not callable",
     "output_type": "error",
     "traceback": [
      "\u001b[0;31m---------------------------------------------------------------------------\u001b[0m",
      "\u001b[0;31mTypeError\u001b[0m                                 Traceback (most recent call last)",
      "Input \u001b[0;32mIn [237]\u001b[0m, in \u001b[0;36m<cell line: 1>\u001b[0;34m()\u001b[0m\n\u001b[1;32m      1\u001b[0m \u001b[38;5;28;01mfor\u001b[39;00m i \u001b[38;5;129;01min\u001b[39;00m comb:\n\u001b[0;32m----> 2\u001b[0m     \u001b[38;5;28msum\u001b[39m \u001b[38;5;241m=\u001b[39m \u001b[38;5;28;43msum\u001b[39;49m\u001b[43m(\u001b[49m\u001b[43mi\u001b[49m\u001b[43m)\u001b[49m\n",
      "\u001b[0;31mTypeError\u001b[0m: 'int' object is not callable"
     ]
    }
   ],
   "source": [
    "comb"
   ]
  },
  {
   "cell_type": "code",
   "execution_count": 249,
   "id": "27578fe6-61a0-4ca8-8e32-988851167d60",
   "metadata": {
    "collapsed": true,
    "jupyter": {
     "outputs_hidden": true
    }
   },
   "outputs": [
    {
     "name": "stdout",
     "output_type": "stream",
     "text": [
      "10\n",
      "9\n",
      "7\n",
      "14\n",
      "12\n",
      "11\n",
      "15\n",
      "13\n",
      "12\n",
      "17\n"
     ]
    },
    {
     "data": {
      "text/plain": [
       "4"
      ]
     },
     "execution_count": 249,
     "metadata": {},
     "output_type": "execute_result"
    }
   ],
   "source": [
    "from itertools import combinations\n",
    "# nums = [1,2,3,4]\n",
    "nums = [1,2,7,6,4]\n",
    "\n",
    "comb = list(combinations(nums,3))\n",
    "count = 0\n",
    "\n",
    "for i in comb :\n",
    "    test = i[0] + i[1] + i[2]\n",
    "    print(test)\n",
    "    \n",
    "    for i in range(2,test) :\n",
    "        if test % i == 0 : # 소수가 아니다\n",
    "            break\n",
    "        if i == test-1 :\n",
    "            count += 1\n",
    "    \n",
    "    \n",
    "count"
   ]
  },
  {
   "cell_type": "code",
   "execution_count": null,
   "id": "dfc1f51b-b785-49d8-9322-2231c737268b",
   "metadata": {
    "collapsed": true,
    "jupyter": {
     "outputs_hidden": true
    }
   },
   "outputs": [],
   "source": [
    "for i in comb :\n",
    "    test = i[0] + i[1] + i[2]\n",
    "    print(test)\n",
    "    \n",
    "    for i in range(2,test) :\n",
    "        if test % i == 0 : # 소수가 아니다\n",
    "            break\n",
    "    "
   ]
  },
  {
   "cell_type": "code",
   "execution_count": 269,
   "id": "c7e19871-37f8-443a-857e-1f3487316387",
   "metadata": {
    "collapsed": true,
    "jupyter": {
     "outputs_hidden": true
    }
   },
   "outputs": [
    {
     "name": "stdout",
     "output_type": "stream",
     "text": [
      "2 2\n",
      "3\n"
     ]
    }
   ],
   "source": [
    "lottos = [44, 1, 0, 0, 31, 25]\n",
    "win_nums = [31, 10, 45, 1, 6, 19]\n",
    "\n",
    "\n",
    "count = 0\n",
    "high_rank = 0\n",
    "low_rank = 0\n",
    "\n",
    "for i in lottos :\n",
    "    if i in win_nums :\n",
    "        count += 1\n",
    "        \n",
    "print(count, lottos.count(0))\n",
    "\n",
    "if count + lottos.count(0) < 2 :\n",
    "    high_rank = 6\n",
    "elif count + lottos.count(0) == 2 :\n",
    "    high_rank = 5\n",
    "elif count + lottos.count(0) == 3 :\n",
    "    high_rank = 4\n",
    "elif count + lottos.count(0) == 4 :\n",
    "    high_rank = 3\n",
    "elif count + lottos.count(0) == 5 :\n",
    "    high_rank = 2\n",
    "elif count + lottos.count(0) == 6 :\n",
    "    high_rank = 1\n",
    "    \n",
    "print(high_rank)"
   ]
  },
  {
   "cell_type": "code",
   "execution_count": 265,
   "id": "e068802c-2728-4e57-8c77-d00baf8f7e6c",
   "metadata": {
    "collapsed": true,
    "jupyter": {
     "outputs_hidden": true
    }
   },
   "outputs": [
    {
     "data": {
      "text/plain": [
       "[0, 0]"
      ]
     },
     "execution_count": 265,
     "metadata": {},
     "output_type": "execute_result"
    }
   ],
   "source": [
    "if count + lottos.count(0) < 2 :\n",
    "    high_rank == 6\n",
    "elif count + lottos.count(0) == 2 :\n",
    "    high_rank == 5\n",
    "elif count + lottos.count(0) == 3 :\n",
    "    high_rank == 4\n",
    "elif count + lottos.count(0) == 4 :\n",
    "    high_rank == 3\n",
    "elif count + lottos.count(0) == 5 :\n",
    "    high_rank == 2\n",
    "elif count + lottos.count(0) == 6 :\n",
    "    high_rank == 1\n",
    "    \n",
    "if count < 2 :\n",
    "    low_rank == 6\n",
    "elif count == 2:\n",
    "    low_rank == 5\n",
    "elif count == 3 :\n",
    "    low_rank == 4\n",
    "elif count == 4 :\n",
    "    low_rank == 3\n",
    "elif count == 5 :\n",
    "    low_rank == 2\n",
    "elif count == 6 :\n",
    "    low_rank == 1\n",
    "    \n",
    "[low_rank, high_rank]"
   ]
  },
  {
   "cell_type": "code",
   "execution_count": 263,
   "id": "8a008c3c-78e9-45ba-be3c-8e99b76e16f7",
   "metadata": {
    "collapsed": true,
    "jupyter": {
     "outputs_hidden": true
    }
   },
   "outputs": [
    {
     "data": {
      "text/plain": [
       "2"
      ]
     },
     "execution_count": 263,
     "metadata": {},
     "output_type": "execute_result"
    }
   ],
   "source": [
    "count"
   ]
  },
  {
   "cell_type": "code",
   "execution_count": 279,
   "id": "8c16a9c1-37a5-41df-a769-666212e2b546",
   "metadata": {
    "collapsed": true,
    "jupyter": {
     "outputs_hidden": true
    }
   },
   "outputs": [
    {
     "ename": "SyntaxError",
     "evalue": "invalid syntax (1870302295.py, line 12)",
     "output_type": "error",
     "traceback": [
      "\u001b[0;36m  Input \u001b[0;32mIn [279]\u001b[0;36m\u001b[0m\n\u001b[0;31m    for index, number in enumerate(numbers) :\u001b[0m\n\u001b[0m    ^\u001b[0m\n\u001b[0;31mSyntaxError\u001b[0m\u001b[0;31m:\u001b[0m invalid syntax\n"
     ]
    }
   ],
   "source": [
    "# numbers = [1, 3, 4, 5, 8, 2, 1, 4, 5, 9, 5]\n",
    "# result = \"LRLLLRLLRRL\"\n",
    "# hand = \"right\"\n",
    "\n",
    "numbers = [7, 0, 8, 2, 8, 3, 1, 5, 7, 6, 2]\n",
    "result = \"LRLLRRLLLRR\"\n",
    "hand = \"left\"\n",
    "\n",
    "left_only = [1,4,7,'*']\n",
    "right_only = [3,6,9,#]\n",
    "              \n",
    "for index, number in enumerate(numbers) :\n",
    "    if number in left_only :\n",
    "        numbers[index] = L\n",
    "    else if number in right_only :\n",
    "        numbers[index] = R\n",
    "              \n",
    "numbers"
   ]
  },
  {
   "cell_type": "code",
   "execution_count": 308,
   "id": "2b8b7cce-60c8-4f4e-85a2-09a93bd2dbcd",
   "metadata": {
    "collapsed": true,
    "jupyter": {
     "outputs_hidden": true
    }
   },
   "outputs": [
    {
     "name": "stdout",
     "output_type": "stream",
     "text": [
      "7\n",
      "0\n",
      "8\n",
      "2\n",
      "8\n",
      "3\n",
      "1\n",
      "5\n",
      "7\n",
      "6\n",
      "2\n"
     ]
    }
   ],
   "source": [
    "numbers = [7, 0, 8, 2, 8, 3, 1, 5, 7, 6, 2]\n",
    "\n",
    "for index, number in enumerate(numbers) :\n",
    "    if number in [1,4,7] :\n",
    "        numbers[index] = \n",
    "        "
   ]
  },
  {
   "cell_type": "code",
   "execution_count": 316,
   "id": "ae2b2681-af6b-4eeb-a80e-7ef8b25eec86",
   "metadata": {
    "collapsed": true,
    "jupyter": {
     "outputs_hidden": true
    }
   },
   "outputs": [
    {
     "name": "stdout",
     "output_type": "stream",
     "text": [
      "7\n",
      "L\n",
      "1\n",
      "LL\n",
      "7\n",
      "LLL\n"
     ]
    }
   ],
   "source": [
    "numbers = [7, 0, 8, 2, 8, 3, 1, 5, 7, 6, 2]\n",
    "left = '*'\n",
    "right = '#'\n",
    "result = ''\n",
    "\n",
    "for i in range(len(numbers)) :\n",
    "    if numbers[i] in [1,4,7] :\n",
    "        left = numbers[i]\n",
    "        result += 'L'\n",
    "    if numbers[i] in [3,6,9] :\n",
    "        right = numbers[i]\n",
    "        result += 'R'\n",
    "    elif "
   ]
  }
 ],
 "metadata": {
  "kernelspec": {
   "display_name": "py38",
   "language": "python",
   "name": "py38"
  },
  "language_info": {
   "codemirror_mode": {
    "name": "ipython",
    "version": 3
   },
   "file_extension": ".py",
   "mimetype": "text/x-python",
   "name": "python",
   "nbconvert_exporter": "python",
   "pygments_lexer": "ipython3",
   "version": "3.8.0"
  }
 },
 "nbformat": 4,
 "nbformat_minor": 5
}
